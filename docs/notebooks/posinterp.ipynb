{
 "cells": [
  {
   "cell_type": "markdown",
   "metadata": {},
   "source": [
    "# The PositionInterpolator\n",
    "\n",
    "Here we cover the detail of the **PositionInterpolator**. This tool allows you to gather lots of information about what is occurring during an orbit or trigger."
   ]
  },
  {
   "cell_type": "markdown",
   "metadata": {},
   "source": [
    "## The Constructor\n",
    "The constructor is build a **PositionInterpolator** from both a Trigdat file and a daily position history file. "
   ]
  },
  {
   "cell_type": "code",
   "execution_count": 1,
   "metadata": {
    "ExecuteTime": {
     "end_time": "2020-03-23T18:29:03.561152Z",
     "start_time": "2020-03-23T18:29:03.343868Z"
    }
   },
   "outputs": [],
   "source": [
    "from gbmgeometry import PositionInterpolator\n",
    "from gbmgeometry.utils.package_utils import get_path_of_data_file\n",
    "\n",
    "trigdat_file = get_path_of_data_file('glg_trigdat_all_bn080916009_v02.fit')\n",
    "\n",
    "pi = PositionInterpolator.from_trigdat(trigdat_file)\n",
    "\n",
    "posthist_file = get_path_of_data_file('glg_poshist_all_151013_v00.fit')\n",
    "\n",
    "pi = PositionInterpolator.from_poshist(posthist_file)"
   ]
  },
  {
   "cell_type": "markdown",
   "metadata": {},
   "source": [
    "You can even build them from HdF5 file versions of the normal fits files. What? Yes we provide a converter for that as the HDF5 is much smaller and faster to load"
   ]
  },
  {
   "cell_type": "code",
   "execution_count": 2,
   "metadata": {
    "ExecuteTime": {
     "end_time": "2020-03-23T18:31:31.305359Z",
     "start_time": "2020-03-23T18:31:31.189049Z"
    }
   },
   "outputs": [],
   "source": [
    "from gbmgeometry import convert_poshist2hdf5, convert_trigdat2hdf5\n",
    "\n",
    "convert_poshist2hdf5(posthist_file, 'my_posthist.h5')\n",
    "\n",
    "convert_trigdat2hdf5(trigdat_file, 'my_trigdat.h5')"
   ]
  },
  {
   "cell_type": "markdown",
   "metadata": {},
   "source": [
    "and to load them"
   ]
  },
  {
   "cell_type": "code",
   "execution_count": 4,
   "metadata": {
    "ExecuteTime": {
     "end_time": "2020-03-23T18:33:05.860782Z",
     "start_time": "2020-03-23T18:33:05.820597Z"
    }
   },
   "outputs": [],
   "source": [
    "\n",
    "trigdat_file = get_path_of_data_file('trigdat.h5')\n",
    "\n",
    "pi = PositionInterpolator.from_trigdat_hdf5(trigdat_file)\n",
    "\n",
    "posthist_file = get_path_of_data_file('posthist.h5')\n",
    "\n",
    "pi = PositionInterpolator.from_poshist_hdf5(posthist_file)"
   ]
  },
  {
   "cell_type": "markdown",
   "metadata": {},
   "source": [
    "## Plotting\n",
    "We will do the fun stuff first. As the **PositionInterpolator** contains a lot of information about where Fermi is, we can use it to plot where the spacecraft is relative to Earth.\n",
    "\n"
   ]
  },
  {
   "cell_type": "markdown",
   "metadata": {},
   "source": [
    "### Static"
   ]
  },
  {
   "cell_type": "code",
   "execution_count": 7,
   "metadata": {
    "ExecuteTime": {
     "end_time": "2020-03-23T18:36:20.624860Z",
     "start_time": "2020-03-23T18:36:20.507223Z"
    }
   },
   "outputs": [
    {
     "data": {
      "application/vnd.jupyter.widget-view+json": {
       "model_id": "0a2e1d903aad41e2a85b1dc8b4cd3e90",
       "version_major": 2,
       "version_minor": 0
      },
      "text/plain": [
       "VBox(children=(Figure(camera=PerspectiveCamera(fov=46.0, position=(0.0, 0.0, 2.0), quaternion=(0.0, 0.0, 0.0, …"
      ]
     },
     "metadata": {},
     "output_type": "display_data"
    }
   ],
   "source": [
    "from gbmgeometry import plot_in_space\n",
    "\n",
    "pi = PositionInterpolator.from_poshist_hdf5(posthist_file)\n",
    "\n",
    "# get the min and max time store in the file\n",
    "tmin, tmax = pi.minmax_time()\n",
    "\n",
    "plot_in_space(pi, tmin)"
   ]
  },
  {
   "cell_type": "markdown",
   "metadata": {},
   "source": [
    "Cool. But where are the detectors pointing?"
   ]
  },
  {
   "cell_type": "code",
   "execution_count": 8,
   "metadata": {
    "ExecuteTime": {
     "end_time": "2020-03-23T18:37:15.859824Z",
     "start_time": "2020-03-23T18:37:15.588172Z"
    }
   },
   "outputs": [
    {
     "data": {
      "application/vnd.jupyter.widget-view+json": {
       "model_id": "f6368a3ecbe944a69ad4d76d283393ea",
       "version_major": 2,
       "version_minor": 0
      },
      "text/plain": [
       "VBox(children=(Figure(camera=PerspectiveCamera(fov=46.0, position=(0.0, 0.0, 2.0), quaternion=(0.0, 0.0, 0.0, …"
      ]
     },
     "metadata": {},
     "output_type": "display_data"
    }
   ],
   "source": [
    "plot_in_space(pi, tmin+1000, show_detector_pointing=True)"
   ]
  },
  {
   "cell_type": "markdown",
   "metadata": {},
   "source": [
    "Where is the moon? Oh, I also miss the stars on the night sky."
   ]
  },
  {
   "cell_type": "code",
   "execution_count": 9,
   "metadata": {
    "ExecuteTime": {
     "end_time": "2020-03-23T18:38:19.160811Z",
     "start_time": "2020-03-23T18:38:18.824969Z"
    }
   },
   "outputs": [
    {
     "data": {
      "application/vnd.jupyter.widget-view+json": {
       "model_id": "4db2265c06994af0aea24157bf66ca39",
       "version_major": 2,
       "version_minor": 0
      },
      "text/plain": [
       "VBox(children=(Figure(camera=PerspectiveCamera(fov=46.0, position=(0.0, 0.0, 2.0), quaternion=(0.0, 0.0, 0.0, …"
      ]
     },
     "metadata": {},
     "output_type": "display_data"
    }
   ],
   "source": [
    "plot_in_space(pi, tmin+1000, show_detector_pointing=True, show_moon=True, show_stars=True)"
   ]
  },
  {
   "cell_type": "markdown",
   "metadata": {},
   "source": [
    "Yes, yes, you can also show the Sun... but it is not very useful at the moment."
   ]
  },
  {
   "cell_type": "markdown",
   "metadata": {},
   "source": [
    "### Animation\n",
    "\n",
    "Let's go crazy and watch Fermi orbit"
   ]
  },
  {
   "cell_type": "code",
   "execution_count": 12,
   "metadata": {
    "ExecuteTime": {
     "end_time": "2020-03-23T18:42:11.467402Z",
     "start_time": "2020-03-23T18:42:11.005842Z"
    }
   },
   "outputs": [
    {
     "data": {
      "application/vnd.jupyter.widget-view+json": {
       "model_id": "7918e0c435db4524b74468e403edbb33",
       "version_major": 2,
       "version_minor": 0
      },
      "text/plain": [
       "VBox(children=(Figure(animation=200.0, camera=PerspectiveCamera(fov=46.0, position=(0.0, 0.0, 2.0), quaternion…"
      ]
     },
     "metadata": {},
     "output_type": "display_data"
    }
   ],
   "source": [
    "from gbmgeometry import animate_in_space\n",
    "\n",
    "animate_in_space(pi, n_step=1000, show_stars=True)"
   ]
  },
  {
   "cell_type": "markdown",
   "metadata": {},
   "source": [
    "Now with the detectors"
   ]
  },
  {
   "cell_type": "code",
   "execution_count": 13,
   "metadata": {
    "ExecuteTime": {
     "end_time": "2020-03-23T18:43:40.519832Z",
     "start_time": "2020-03-23T18:42:47.335924Z"
    }
   },
   "outputs": [
    {
     "data": {
      "application/vnd.jupyter.widget-view+json": {
       "model_id": "34e4b9dd06db4edcaf100270498e4844",
       "version_major": 2,
       "version_minor": 0
      },
      "text/plain": [
       "VBox(children=(Figure(animation=200.0, camera=PerspectiveCamera(fov=46.0, position=(0.0, 0.0, 2.0), quaternion…"
      ]
     },
     "metadata": {},
     "output_type": "display_data"
    }
   ],
   "source": [
    "animate_in_space(pi, n_step=1000, show_stars=True, show_detector_pointing=True)"
   ]
  },
  {
   "cell_type": "markdown",
   "metadata": {},
   "source": [
    "We can add the Moon now, but let's get rid of the star and kick back the resolution so that it doesn't take so long to render. if you watch closely, you can see the Moon slowly orbit. Zoom in if you do not believe me."
   ]
  },
  {
   "cell_type": "code",
   "execution_count": 14,
   "metadata": {
    "ExecuteTime": {
     "end_time": "2020-03-23T18:46:56.374800Z",
     "start_time": "2020-03-23T18:46:03.675919Z"
    }
   },
   "outputs": [
    {
     "data": {
      "application/vnd.jupyter.widget-view+json": {
       "model_id": "63c95b9b83c54ddbb1c511da0bf8ca6a",
       "version_major": 2,
       "version_minor": 0
      },
      "text/plain": [
       "VBox(children=(Figure(animation=200.0, camera=PerspectiveCamera(fov=46.0, position=(0.0, 0.0, 2.0), quaternion…"
      ]
     },
     "metadata": {},
     "output_type": "display_data"
    }
   ],
   "source": [
    "animate_in_space(pi, n_step=500, show_detector_pointing=True, show_moon=True)"
   ]
  },
  {
   "cell_type": "markdown",
   "metadata": {},
   "source": [
    "So, for fun let's plot with the Sun. The resolution will improve in the near future."
   ]
  },
  {
   "cell_type": "code",
   "execution_count": 15,
   "metadata": {
    "ExecuteTime": {
     "end_time": "2020-03-23T18:50:16.680033Z",
     "start_time": "2020-03-23T18:49:38.632516Z"
    }
   },
   "outputs": [
    {
     "data": {
      "application/vnd.jupyter.widget-view+json": {
       "model_id": "dabaff54536a449bb767e5c58ae8415d",
       "version_major": 2,
       "version_minor": 0
      },
      "text/plain": [
       "VBox(children=(Figure(animation=200.0, camera=PerspectiveCamera(fov=46.0, position=(0.0, 0.0, 2.0), quaternion…"
      ]
     },
     "metadata": {},
     "output_type": "display_data"
    }
   ],
   "source": [
    "animate_in_space(pi, n_step=700, show_detector_pointing=True, show_sun=True, show_stars=True)"
   ]
  },
  {
   "cell_type": "markdown",
   "metadata": {},
   "source": [
    "## Properties of the PositionInterpolator\n",
    "\n",
    "Coming Soon!"
   ]
  },
  {
   "cell_type": "code",
   "execution_count": null,
   "metadata": {},
   "outputs": [],
   "source": []
  }
 ],
 "metadata": {
  "kernelspec": {
   "display_name": "gbmgeo",
   "language": "python",
   "name": "gbmgeo"
  },
  "language_info": {
   "codemirror_mode": {
    "name": "ipython",
    "version": 3
   },
   "file_extension": ".py",
   "mimetype": "text/x-python",
   "name": "python",
   "nbconvert_exporter": "python",
   "pygments_lexer": "ipython3",
   "version": "3.7.7"
  }
 },
 "nbformat": 4,
 "nbformat_minor": 4
}
